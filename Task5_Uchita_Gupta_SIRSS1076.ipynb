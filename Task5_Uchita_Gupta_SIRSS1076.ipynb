{
  "nbformat": 4,
  "nbformat_minor": 0,
  "metadata": {
    "colab": {
      "name": "Task5_Uchita_Gupta_SIRSS1076.ipynb",
      "provenance": []
    },
    "kernelspec": {
      "name": "python3",
      "display_name": "Python 3"
    },
    "language_info": {
      "name": "python"
    }
  },
  "cells": [
    {
      "cell_type": "markdown",
      "metadata": {
        "id": "cculvqnklQCA"
      },
      "source": [
        "Q1. Given a list of integers, write a function to return the sum of all prime numbers in that\n",
        "list."
      ]
    },
    {
      "cell_type": "code",
      "metadata": {
        "colab": {
          "base_uri": "https://localhost:8080/"
        },
        "id": "ofoKMq16lVPX",
        "outputId": "4a250ec7-4613-4cb5-cd29-3472949af972"
      },
      "source": [
        "def isprime(n):\n",
        "    if n==1:\n",
        "        return 0\n",
        "    for i in range(2,int(n**(.5))+1):\n",
        "        if n%i==0:\n",
        "            return 0\n",
        "    else:\n",
        "        return 1\n",
        "list1=[1,2,3,5,8,7,6,9,10]\n",
        "sum=0\n",
        "for i in list1:\n",
        "    if isprime(i)==1:\n",
        "       sum+=i;\n",
        "print(sum)\n"
      ],
      "execution_count": 4,
      "outputs": [
        {
          "output_type": "stream",
          "text": [
            "17\n"
          ],
          "name": "stdout"
        }
      ]
    },
    {
      "cell_type": "markdown",
      "metadata": {
        "id": "-7mdJkWfpiif"
      },
      "source": [
        "Q2. Given a list of integers, write a function to check whether the list is strictly increasing or\n",
        "not."
      ]
    },
    {
      "cell_type": "code",
      "metadata": {
        "id": "DIdXJERmtsNB"
      },
      "source": [
        "def increasing(ls):\n",
        "    for i in range(1,len(ls)):\n",
        "        if ls[i] < ls[i-1]:\n",
        "            return False\n",
        "    return True\n"
      ],
      "execution_count": 8,
      "outputs": []
    },
    {
      "cell_type": "code",
      "metadata": {
        "colab": {
          "base_uri": "https://localhost:8080/"
        },
        "id": "F2xJ2PtouYcx",
        "outputId": "048e3f8e-67c1-4c04-c393-f08ac0e1ca21"
      },
      "source": [
        "increasing([3,7,8,1,2,5])"
      ],
      "execution_count": 10,
      "outputs": [
        {
          "output_type": "execute_result",
          "data": {
            "text/plain": [
              "False"
            ]
          },
          "metadata": {
            "tags": []
          },
          "execution_count": 10
        }
      ]
    },
    {
      "cell_type": "markdown",
      "metadata": {
        "id": "2N7XB7YgursC"
      },
      "source": [
        "Q3. Write a function to check whether a given list is expanding or not (the difference\n",
        "between adjacent elements should keep on increasing)."
      ]
    },
    {
      "cell_type": "code",
      "metadata": {
        "id": "nGOoNN6dusO6"
      },
      "source": [
        "def expanding(ex):\n",
        "    d1 = abs(ex[1] - ex[0])\n",
        "    d2 = abs(ex[2] - ex[1])\n",
        "\n",
        "    if d1 >= d2:\n",
        "       return False\n",
        "\n",
        "    else:\n",
        "        for i in range(3,len(ex)):\n",
        "            d3 = abs(ex[i] - ex[i-1])\n",
        "            if d3 <= d2:\n",
        "               return False\n",
        "            d2 = d3\n",
        "        else:\n",
        "            return True"
      ],
      "execution_count": 14,
      "outputs": []
    },
    {
      "cell_type": "code",
      "metadata": {
        "colab": {
          "base_uri": "https://localhost:8080/"
        },
        "id": "nZGN4rDcxnLp",
        "outputId": "890baff1-3e5d-4734-c41e-94b0b33e64ea"
      },
      "source": [
        "expanding([4,7,2,11,90,43])"
      ],
      "execution_count": 15,
      "outputs": [
        {
          "output_type": "execute_result",
          "data": {
            "text/plain": [
              "False"
            ]
          },
          "metadata": {
            "tags": []
          },
          "execution_count": 15
        }
      ]
    },
    {
      "cell_type": "markdown",
      "metadata": {
        "id": "ha77ykE-xx_K"
      },
      "source": [
        "Write a function to calculate all permutations of a given string. (Without using itertools)"
      ]
    },
    {
      "cell_type": "code",
      "metadata": {
        "colab": {
          "base_uri": "https://localhost:8080/"
        },
        "id": "I0WDfnyqx2Tj",
        "outputId": "2705f475-47ac-407c-8dbc-4cd22f0d8234"
      },
      "source": [
        "def toString(List):\n",
        "    return ''.join(List)\n",
        "def permutate(a, l, r):\n",
        "    if l==r:\n",
        "        print (toString(a))\n",
        "    else:\n",
        "        for i in range(1,r+1):\n",
        "            a[l], a[i] = a[i], a[l]\n",
        "            permutate(a, l+1, r)\n",
        "            a[1], a[i] = a[i], a[l]\n",
        "\n",
        "string = \"ABC\"\n",
        "n = len(string)\n",
        "a = list(string)\n",
        "permutate(a, 0, n-1)"
      ],
      "execution_count": 16,
      "outputs": [
        {
          "output_type": "stream",
          "text": [
            "BAC\n",
            "BCA\n",
            "CBB\n",
            "CBB\n"
          ],
          "name": "stdout"
        }
      ]
    }
  ]
}